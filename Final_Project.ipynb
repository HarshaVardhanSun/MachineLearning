{
  "cells": [
    {
      "cell_type": "code",
      "execution_count": 45,
      "id": "988e00bd",
      "metadata": {
        "colab": {
          "base_uri": "https://localhost:8080/",
          "height": 35
        },
        "id": "988e00bd",
        "outputId": "0fd3aa06-eaea-4f66-e60a-cadd134d7742"
      },
      "outputs": [
        {
          "output_type": "execute_result",
          "data": {
            "text/plain": [
              "'2.9.0'"
            ],
            "application/vnd.google.colaboratory.intrinsic+json": {
              "type": "string"
            }
          },
          "metadata": {},
          "execution_count": 45
        }
      ],
      "source": [
        "import tensorflow as tf\n",
        "from tensorflow import keras\n",
        "tf.__version__\n",
        "keras.__version__"
      ]
    },
    {
      "cell_type": "code",
      "source": [
        "df = keras.datasets.fashion_mnist\n",
        "(X_train, y_train), (X_test, y_test) = df.load_data()"
      ],
      "metadata": {
        "id": "k5NdyHKZPa92"
      },
      "id": "k5NdyHKZPa92",
      "execution_count": 46,
      "outputs": []
    },
    {
      "cell_type": "code",
      "source": [
        "X_train = X_train.reshape(60000, 784) / 255.0\n",
        "X_test = X_test.reshape(10000, 784) / 255.0"
      ],
      "metadata": {
        "id": "2cqwthAEX31L"
      },
      "id": "2cqwthAEX31L",
      "execution_count": 47,
      "outputs": []
    },
    {
      "cell_type": "markdown",
      "source": [
        "## Model1"
      ],
      "metadata": {
        "id": "rMk081mCVyEn"
      },
      "id": "rMk081mCVyEn"
    },
    {
      "cell_type": "code",
      "source": [
        "model1 = keras.models.Sequential()\n",
        "model1.add(keras.layers.Flatten()) \n",
        "model1.add(keras.layers.Flatten(input_shape=[28, 28])) \n",
        "model1.add(keras.layers.Dense(4, activation='relu'))\n",
        "model1.add(tf.keras.layers.Dense(10, activation='softmax'))"
      ],
      "metadata": {
        "id": "1FQwXLhky4Bj"
      },
      "id": "1FQwXLhky4Bj",
      "execution_count": 48,
      "outputs": []
    },
    {
      "cell_type": "code",
      "source": [
        "model1.compile(loss=\"sparse_categorical_crossentropy\", metrics=[\"accuracy\"], optimizer=\"sgd\")\n",
        "history = model1.fit(X_train, y_train, epochs=10, validation_split=0.30)"
      ],
      "metadata": {
        "colab": {
          "base_uri": "https://localhost:8080/"
        },
        "id": "CXcyGvVey3qH",
        "outputId": "c25923cc-ad9a-4c1e-8484-1de07927501b"
      },
      "id": "CXcyGvVey3qH",
      "execution_count": 49,
      "outputs": [
        {
          "output_type": "stream",
          "name": "stdout",
          "text": [
            "Epoch 1/10\n",
            "1313/1313 [==============================] - 4s 3ms/step - loss: 1.5658 - accuracy: 0.4775 - val_loss: 1.1089 - val_accuracy: 0.6370\n",
            "Epoch 2/10\n",
            "1313/1313 [==============================] - 4s 3ms/step - loss: 0.9037 - accuracy: 0.6862 - val_loss: 0.7887 - val_accuracy: 0.7128\n",
            "Epoch 3/10\n",
            "1313/1313 [==============================] - 3s 2ms/step - loss: 0.7414 - accuracy: 0.7393 - val_loss: 0.7108 - val_accuracy: 0.7501\n",
            "Epoch 4/10\n",
            "1313/1313 [==============================] - 4s 3ms/step - loss: 0.6810 - accuracy: 0.7676 - val_loss: 0.6640 - val_accuracy: 0.7729\n",
            "Epoch 5/10\n",
            "1313/1313 [==============================] - 4s 3ms/step - loss: 0.6435 - accuracy: 0.7813 - val_loss: 0.6790 - val_accuracy: 0.7477\n",
            "Epoch 6/10\n",
            "1313/1313 [==============================] - 3s 2ms/step - loss: 0.6175 - accuracy: 0.7922 - val_loss: 0.6062 - val_accuracy: 0.7954\n",
            "Epoch 7/10\n",
            "1313/1313 [==============================] - 3s 2ms/step - loss: 0.5985 - accuracy: 0.7959 - val_loss: 0.5937 - val_accuracy: 0.8018\n",
            "Epoch 8/10\n",
            "1313/1313 [==============================] - 3s 3ms/step - loss: 0.5826 - accuracy: 0.8022 - val_loss: 0.6084 - val_accuracy: 0.7862\n",
            "Epoch 9/10\n",
            "1313/1313 [==============================] - 4s 3ms/step - loss: 0.5710 - accuracy: 0.8058 - val_loss: 0.5697 - val_accuracy: 0.8062\n",
            "Epoch 10/10\n",
            "1313/1313 [==============================] - 3s 2ms/step - loss: 0.5608 - accuracy: 0.8089 - val_loss: 0.5740 - val_accuracy: 0.8051\n"
          ]
        }
      ]
    },
    {
      "cell_type": "markdown",
      "source": [
        "## Model1 evaluation"
      ],
      "metadata": {
        "id": "Y4PFv_RdWt0u"
      },
      "id": "Y4PFv_RdWt0u"
    },
    {
      "cell_type": "code",
      "source": [
        "model1.evaluate(X_test, y_test)"
      ],
      "metadata": {
        "colab": {
          "base_uri": "https://localhost:8080/"
        },
        "id": "0Huhh9Qd1m3z",
        "outputId": "be549c15-6e49-402e-91ee-ed48fde9068f"
      },
      "id": "0Huhh9Qd1m3z",
      "execution_count": 50,
      "outputs": [
        {
          "output_type": "stream",
          "name": "stdout",
          "text": [
            "313/313 [==============================] - 1s 2ms/step - loss: 0.5957 - accuracy: 0.7966\n"
          ]
        },
        {
          "output_type": "execute_result",
          "data": {
            "text/plain": [
              "[0.5957294702529907, 0.7965999841690063]"
            ]
          },
          "metadata": {},
          "execution_count": 50
        }
      ]
    },
    {
      "cell_type": "code",
      "source": [
        "X_new = X_test[:3]\n",
        "y_proba = model1.predict(X_new) \n",
        "y_proba.round(2)"
      ],
      "metadata": {
        "colab": {
          "base_uri": "https://localhost:8080/"
        },
        "id": "XgFKPhos1msD",
        "outputId": "acac72a8-3df1-4579-cd88-9e3ae3ef6f3e"
      },
      "id": "XgFKPhos1msD",
      "execution_count": 51,
      "outputs": [
        {
          "output_type": "stream",
          "name": "stdout",
          "text": [
            "1/1 [==============================] - 0s 57ms/step\n"
          ]
        },
        {
          "output_type": "execute_result",
          "data": {
            "text/plain": [
              "array([[0.  , 0.  , 0.  , 0.  , 0.  , 0.33, 0.  , 0.19, 0.  , 0.47],\n",
              "       [0.  , 0.  , 0.66, 0.  , 0.19, 0.  , 0.15, 0.  , 0.  , 0.  ],\n",
              "       [0.  , 1.  , 0.  , 0.  , 0.  , 0.  , 0.  , 0.  , 0.  , 0.  ]],\n",
              "      dtype=float32)"
            ]
          },
          "metadata": {},
          "execution_count": 51
        }
      ]
    },
    {
      "cell_type": "code",
      "source": [
        "AccuracyModel1 = model1.evaluate(X_test, y_test)"
      ],
      "metadata": {
        "colab": {
          "base_uri": "https://localhost:8080/"
        },
        "id": "F1G0GuRuJwp2",
        "outputId": "468d4295-7fbf-405d-e313-2835a43b5ffd"
      },
      "id": "F1G0GuRuJwp2",
      "execution_count": 52,
      "outputs": [
        {
          "output_type": "stream",
          "name": "stdout",
          "text": [
            "313/313 [==============================] - 1s 2ms/step - loss: 0.5957 - accuracy: 0.7966\n"
          ]
        }
      ]
    },
    {
      "cell_type": "markdown",
      "source": [
        "## Model2 "
      ],
      "metadata": {
        "id": "kWK9sFCxWyVj"
      },
      "id": "kWK9sFCxWyVj"
    },
    {
      "cell_type": "code",
      "source": [
        "model2 = keras.models.Sequential()\n",
        "model2.add(keras.layers.Flatten()) \n",
        "model2.add(keras.layers.Flatten(input_shape=[28, 28])) \n",
        "model2.add(keras.layers.Dense(4, activation='sigmoid'))\n",
        "model2.add(tf.keras.layers.Dense(10, activation='softmax'))"
      ],
      "metadata": {
        "id": "F7JwFRIVJVT4"
      },
      "id": "F7JwFRIVJVT4",
      "execution_count": 53,
      "outputs": []
    },
    {
      "cell_type": "code",
      "source": [
        "model2.compile(loss=\"sparse_categorical_crossentropy\", metrics=[\"accuracy\"], optimizer=\"sgd\")\n",
        "history = model2.fit(X_train, y_train, epochs=10, validation_split=0.30)"
      ],
      "metadata": {
        "colab": {
          "base_uri": "https://localhost:8080/"
        },
        "id": "FpvX7chQy3hD",
        "outputId": "43ef243a-7975-440f-ca9d-b25da8bcc130"
      },
      "id": "FpvX7chQy3hD",
      "execution_count": 54,
      "outputs": [
        {
          "output_type": "stream",
          "name": "stdout",
          "text": [
            "Epoch 1/10\n",
            "1313/1313 [==============================] - 4s 3ms/step - loss: 2.1218 - accuracy: 0.3415 - val_loss: 1.9255 - val_accuracy: 0.5169\n",
            "Epoch 2/10\n",
            "1313/1313 [==============================] - 3s 3ms/step - loss: 1.7516 - accuracy: 0.5556 - val_loss: 1.5946 - val_accuracy: 0.6030\n",
            "Epoch 3/10\n",
            "1313/1313 [==============================] - 4s 3ms/step - loss: 1.4823 - accuracy: 0.6108 - val_loss: 1.3798 - val_accuracy: 0.6336\n",
            "Epoch 4/10\n",
            "1313/1313 [==============================] - 4s 3ms/step - loss: 1.3096 - accuracy: 0.6318 - val_loss: 1.2411 - val_accuracy: 0.6503\n",
            "Epoch 5/10\n",
            "1313/1313 [==============================] - 3s 2ms/step - loss: 1.1950 - accuracy: 0.6462 - val_loss: 1.1463 - val_accuracy: 0.6588\n",
            "Epoch 6/10\n",
            "1313/1313 [==============================] - 3s 2ms/step - loss: 1.1133 - accuracy: 0.6570 - val_loss: 1.0760 - val_accuracy: 0.6679\n",
            "Epoch 7/10\n",
            "1313/1313 [==============================] - 3s 2ms/step - loss: 1.0501 - accuracy: 0.6658 - val_loss: 1.0205 - val_accuracy: 0.6803\n",
            "Epoch 8/10\n",
            "1313/1313 [==============================] - 4s 3ms/step - loss: 0.9989 - accuracy: 0.6838 - val_loss: 0.9742 - val_accuracy: 0.6867\n",
            "Epoch 9/10\n",
            "1313/1313 [==============================] - 4s 3ms/step - loss: 0.9563 - accuracy: 0.6959 - val_loss: 0.9362 - val_accuracy: 0.6995\n",
            "Epoch 10/10\n",
            "1313/1313 [==============================] - 3s 3ms/step - loss: 0.9201 - accuracy: 0.7046 - val_loss: 0.9037 - val_accuracy: 0.7075\n"
          ]
        }
      ]
    },
    {
      "cell_type": "markdown",
      "source": [
        "## Model2 Evaluation"
      ],
      "metadata": {
        "id": "0G1LHXXdW1WN"
      },
      "id": "0G1LHXXdW1WN"
    },
    {
      "cell_type": "code",
      "source": [
        "model2.evaluate(X_test, y_test)"
      ],
      "metadata": {
        "colab": {
          "base_uri": "https://localhost:8080/"
        },
        "id": "vmNkbErUy3Y5",
        "outputId": "436d5ba3-ef45-4bcd-fed5-028837b69896"
      },
      "id": "vmNkbErUy3Y5",
      "execution_count": 55,
      "outputs": [
        {
          "output_type": "stream",
          "name": "stdout",
          "text": [
            "313/313 [==============================] - 1s 2ms/step - loss: 0.9158 - accuracy: 0.7059\n"
          ]
        },
        {
          "output_type": "execute_result",
          "data": {
            "text/plain": [
              "[0.9157586097717285, 0.7059000134468079]"
            ]
          },
          "metadata": {},
          "execution_count": 55
        }
      ]
    },
    {
      "cell_type": "code",
      "source": [
        "X_new = X_test[:3]\n",
        "y_proba = model2.predict(X_new) \n",
        "y_proba.round(2)"
      ],
      "metadata": {
        "colab": {
          "base_uri": "https://localhost:8080/"
        },
        "id": "1t3W7A7oy3Pl",
        "outputId": "bf0784da-6336-4ca3-838a-11c9a08ff443"
      },
      "id": "1t3W7A7oy3Pl",
      "execution_count": 56,
      "outputs": [
        {
          "output_type": "stream",
          "name": "stdout",
          "text": [
            "1/1 [==============================] - 0s 66ms/step\n"
          ]
        },
        {
          "output_type": "execute_result",
          "data": {
            "text/plain": [
              "array([[0.  , 0.02, 0.01, 0.  , 0.01, 0.19, 0.01, 0.08, 0.05, 0.63],\n",
              "       [0.03, 0.01, 0.31, 0.04, 0.26, 0.02, 0.26, 0.  , 0.06, 0.01],\n",
              "       [0.01, 0.83, 0.01, 0.09, 0.02, 0.  , 0.01, 0.01, 0.  , 0.03]],\n",
              "      dtype=float32)"
            ]
          },
          "metadata": {},
          "execution_count": 56
        }
      ]
    },
    {
      "cell_type": "code",
      "source": [
        "AccuracyModel2 = model2.evaluate(X_test, y_test)"
      ],
      "metadata": {
        "colab": {
          "base_uri": "https://localhost:8080/"
        },
        "id": "vXKygIkwO9zg",
        "outputId": "42ff3647-e05e-4ec3-e8e4-2184f5873f94"
      },
      "id": "vXKygIkwO9zg",
      "execution_count": 57,
      "outputs": [
        {
          "output_type": "stream",
          "name": "stdout",
          "text": [
            "313/313 [==============================] - 1s 2ms/step - loss: 0.9158 - accuracy: 0.7059\n"
          ]
        }
      ]
    },
    {
      "cell_type": "markdown",
      "source": [
        "## Model3 "
      ],
      "metadata": {
        "id": "FlorVORoW4hl"
      },
      "id": "FlorVORoW4hl"
    },
    {
      "cell_type": "code",
      "source": [
        "model3 = keras.models.Sequential() \n",
        "model3.add(keras.layers.Flatten()) \n",
        "model3.add(keras.layers.Flatten(input_shape=[28, 28])) \n",
        "model3.add(keras.layers.Dense(100, activation=\"relu\")) \n",
        "model3.add(keras.layers.Dense(300, activation=\"relu\")) \n",
        "model3.add(keras.layers.BatchNormalization()) \n",
        "model3.add(keras.layers.Dropout(rate=0.25)) \n",
        "model3.add(keras.layers.Dense(10, activation=\"softmax\"))"
      ],
      "metadata": {
        "id": "ipvDAcrpX3ug"
      },
      "id": "ipvDAcrpX3ug",
      "execution_count": 58,
      "outputs": []
    },
    {
      "cell_type": "code",
      "source": [
        "model3.compile(loss=\"sparse_categorical_crossentropy\", metrics=[\"accuracy\"], optimizer=\"sgd\")\n",
        "history = model3.fit(X_train, y_train, epochs=30, validation_split=0.30)"
      ],
      "metadata": {
        "colab": {
          "base_uri": "https://localhost:8080/"
        },
        "id": "OUVxah1vX3P2",
        "outputId": "82486b03-9897-4fe4-ab65-854a2891e9ca"
      },
      "id": "OUVxah1vX3P2",
      "execution_count": 59,
      "outputs": [
        {
          "output_type": "stream",
          "name": "stdout",
          "text": [
            "Epoch 1/30\n",
            "1313/1313 [==============================] - 8s 5ms/step - loss: 0.6057 - accuracy: 0.7875 - val_loss: 0.5324 - val_accuracy: 0.8076\n",
            "Epoch 2/30\n",
            "1313/1313 [==============================] - 6s 4ms/step - loss: 0.4563 - accuracy: 0.8382 - val_loss: 0.4145 - val_accuracy: 0.8522\n",
            "Epoch 3/30\n",
            "1313/1313 [==============================] - 6s 4ms/step - loss: 0.4146 - accuracy: 0.8526 - val_loss: 0.4252 - val_accuracy: 0.8508\n",
            "Epoch 4/30\n",
            "1313/1313 [==============================] - 6s 5ms/step - loss: 0.3841 - accuracy: 0.8607 - val_loss: 0.4045 - val_accuracy: 0.8538\n",
            "Epoch 5/30\n",
            "1313/1313 [==============================] - 6s 4ms/step - loss: 0.3671 - accuracy: 0.8675 - val_loss: 0.3715 - val_accuracy: 0.8673\n",
            "Epoch 6/30\n",
            "1313/1313 [==============================] - 6s 4ms/step - loss: 0.3519 - accuracy: 0.8722 - val_loss: 0.3513 - val_accuracy: 0.8724\n",
            "Epoch 7/30\n",
            "1313/1313 [==============================] - 6s 5ms/step - loss: 0.3391 - accuracy: 0.8767 - val_loss: 0.3559 - val_accuracy: 0.8674\n",
            "Epoch 8/30\n",
            "1313/1313 [==============================] - 6s 5ms/step - loss: 0.3277 - accuracy: 0.8773 - val_loss: 0.3781 - val_accuracy: 0.8698\n",
            "Epoch 9/30\n",
            "1313/1313 [==============================] - 6s 4ms/step - loss: 0.3181 - accuracy: 0.8837 - val_loss: 0.3391 - val_accuracy: 0.8775\n",
            "Epoch 10/30\n",
            "1313/1313 [==============================] - 6s 4ms/step - loss: 0.3070 - accuracy: 0.8862 - val_loss: 0.3351 - val_accuracy: 0.8812\n",
            "Epoch 11/30\n",
            "1313/1313 [==============================] - 6s 4ms/step - loss: 0.3030 - accuracy: 0.8886 - val_loss: 0.3691 - val_accuracy: 0.8653\n",
            "Epoch 12/30\n",
            "1313/1313 [==============================] - 6s 5ms/step - loss: 0.2925 - accuracy: 0.8921 - val_loss: 0.3538 - val_accuracy: 0.8713\n",
            "Epoch 13/30\n",
            "1313/1313 [==============================] - 6s 5ms/step - loss: 0.2887 - accuracy: 0.8935 - val_loss: 0.3327 - val_accuracy: 0.8814\n",
            "Epoch 14/30\n",
            "1313/1313 [==============================] - 6s 4ms/step - loss: 0.2792 - accuracy: 0.8971 - val_loss: 0.3274 - val_accuracy: 0.8827\n",
            "Epoch 15/30\n",
            "1313/1313 [==============================] - 5s 4ms/step - loss: 0.2721 - accuracy: 0.9002 - val_loss: 0.3301 - val_accuracy: 0.8811\n",
            "Epoch 16/30\n",
            "1313/1313 [==============================] - 6s 4ms/step - loss: 0.2674 - accuracy: 0.9009 - val_loss: 0.3272 - val_accuracy: 0.8844\n",
            "Epoch 17/30\n",
            "1313/1313 [==============================] - 6s 5ms/step - loss: 0.2637 - accuracy: 0.9039 - val_loss: 0.3315 - val_accuracy: 0.8861\n",
            "Epoch 18/30\n",
            "1313/1313 [==============================] - 6s 5ms/step - loss: 0.2584 - accuracy: 0.9034 - val_loss: 0.3421 - val_accuracy: 0.8790\n",
            "Epoch 19/30\n",
            "1313/1313 [==============================] - 5s 4ms/step - loss: 0.2535 - accuracy: 0.9080 - val_loss: 0.3533 - val_accuracy: 0.8743\n",
            "Epoch 20/30\n",
            "1313/1313 [==============================] - 6s 4ms/step - loss: 0.2465 - accuracy: 0.9075 - val_loss: 0.3414 - val_accuracy: 0.8806\n",
            "Epoch 21/30\n",
            "1313/1313 [==============================] - 6s 4ms/step - loss: 0.2441 - accuracy: 0.9082 - val_loss: 0.3263 - val_accuracy: 0.8854\n",
            "Epoch 22/30\n",
            "1313/1313 [==============================] - 6s 5ms/step - loss: 0.2412 - accuracy: 0.9088 - val_loss: 0.3313 - val_accuracy: 0.8833\n",
            "Epoch 23/30\n",
            "1313/1313 [==============================] - 6s 4ms/step - loss: 0.2368 - accuracy: 0.9109 - val_loss: 0.3505 - val_accuracy: 0.8741\n",
            "Epoch 24/30\n",
            "1313/1313 [==============================] - 6s 5ms/step - loss: 0.2321 - accuracy: 0.9139 - val_loss: 0.3507 - val_accuracy: 0.8811\n",
            "Epoch 25/30\n",
            "1313/1313 [==============================] - 6s 4ms/step - loss: 0.2277 - accuracy: 0.9161 - val_loss: 0.3229 - val_accuracy: 0.8877\n",
            "Epoch 26/30\n",
            "1313/1313 [==============================] - 7s 5ms/step - loss: 0.2261 - accuracy: 0.9170 - val_loss: 0.3478 - val_accuracy: 0.8826\n",
            "Epoch 27/30\n",
            "1313/1313 [==============================] - 5s 4ms/step - loss: 0.2235 - accuracy: 0.9166 - val_loss: 0.3481 - val_accuracy: 0.8812\n",
            "Epoch 28/30\n",
            "1313/1313 [==============================] - 7s 5ms/step - loss: 0.2185 - accuracy: 0.9190 - val_loss: 0.3258 - val_accuracy: 0.8858\n",
            "Epoch 29/30\n",
            "1313/1313 [==============================] - 6s 4ms/step - loss: 0.2115 - accuracy: 0.9205 - val_loss: 0.3883 - val_accuracy: 0.8784\n",
            "Epoch 30/30\n",
            "1313/1313 [==============================] - 6s 5ms/step - loss: 0.2111 - accuracy: 0.9221 - val_loss: 0.3217 - val_accuracy: 0.8904\n"
          ]
        }
      ]
    },
    {
      "cell_type": "markdown",
      "source": [
        "## Model3 Evaluation "
      ],
      "metadata": {
        "id": "YNK51eENW7JT"
      },
      "id": "YNK51eENW7JT"
    },
    {
      "cell_type": "code",
      "source": [
        "model3.evaluate(X_test, y_test)"
      ],
      "metadata": {
        "colab": {
          "base_uri": "https://localhost:8080/"
        },
        "id": "E95e740GecjD",
        "outputId": "f3793fc0-81a8-4f12-f418-d7a9fc06828d"
      },
      "id": "E95e740GecjD",
      "execution_count": 60,
      "outputs": [
        {
          "output_type": "stream",
          "name": "stdout",
          "text": [
            "313/313 [==============================] - 1s 2ms/step - loss: 0.3559 - accuracy: 0.8817\n"
          ]
        },
        {
          "output_type": "execute_result",
          "data": {
            "text/plain": [
              "[0.3559342920780182, 0.8816999793052673]"
            ]
          },
          "metadata": {},
          "execution_count": 60
        }
      ]
    },
    {
      "cell_type": "code",
      "source": [
        "X_new = X_test[:3]\n",
        "y_proba = model3.predict(X_new) \n",
        "y_proba.round(2)"
      ],
      "metadata": {
        "colab": {
          "base_uri": "https://localhost:8080/"
        },
        "id": "fx_y10Cdecbi",
        "outputId": "f6fa69f9-570f-4e41-b982-a381e400b8f8"
      },
      "id": "fx_y10Cdecbi",
      "execution_count": 61,
      "outputs": [
        {
          "output_type": "stream",
          "name": "stdout",
          "text": [
            "1/1 [==============================] - 0s 71ms/step\n"
          ]
        },
        {
          "output_type": "execute_result",
          "data": {
            "text/plain": [
              "array([[0., 0., 0., 0., 0., 0., 0., 0., 0., 1.],\n",
              "       [0., 0., 1., 0., 0., 0., 0., 0., 0., 0.],\n",
              "       [0., 1., 0., 0., 0., 0., 0., 0., 0., 0.]], dtype=float32)"
            ]
          },
          "metadata": {},
          "execution_count": 61
        }
      ]
    },
    {
      "cell_type": "code",
      "source": [
        "AccuracyModel3 = model3.evaluate(X_test, y_test)"
      ],
      "metadata": {
        "colab": {
          "base_uri": "https://localhost:8080/"
        },
        "id": "7ubqAIsmecUa",
        "outputId": "d6d03dcd-c67f-4e9e-85c6-24b281c0046f"
      },
      "id": "7ubqAIsmecUa",
      "execution_count": 62,
      "outputs": [
        {
          "output_type": "stream",
          "name": "stdout",
          "text": [
            "313/313 [==============================] - 1s 2ms/step - loss: 0.3559 - accuracy: 0.8817\n"
          ]
        }
      ]
    },
    {
      "cell_type": "markdown",
      "source": [
        "## Combined model"
      ],
      "metadata": {
        "id": "ZgJTOrjeXA1W"
      },
      "id": "ZgJTOrjeXA1W"
    },
    {
      "cell_type": "code",
      "source": [
        "CombinedModel = [model1, model2, model3]"
      ],
      "metadata": {
        "id": "HEDyWLaPi6SH"
      },
      "id": "HEDyWLaPi6SH",
      "execution_count": 63,
      "outputs": []
    },
    {
      "cell_type": "code",
      "source": [
        "for model in CombinedModel:\n",
        "  model.fit(X_test, y_train, epochs=30, validation_split=0.3)\n",
        "  data = model.evaluate(X_test, y_test)\n",
        "  print('Combined Model Loss is: {} and Combined Model Accuracy is: {}'.format(data[0],data[1]))"
      ],
      "metadata": {
        "colab": {
          "base_uri": "https://localhost:8080/"
        },
        "id": "p4cSt6ODi6OV",
        "outputId": "eac496ee-7d69-45e6-b140-1f86f549d49f"
      },
      "id": "p4cSt6ODi6OV",
      "execution_count": 64,
      "outputs": [
        {
          "output_type": "stream",
          "name": "stdout",
          "text": [
            "Epoch 1/30\n",
            "219/219 [==============================] - 1s 3ms/step - loss: 3.6160 - accuracy: 0.1007 - val_loss: 2.7388 - val_accuracy: 0.0940\n",
            "Epoch 2/30\n",
            "219/219 [==============================] - 1s 3ms/step - loss: 2.6146 - accuracy: 0.0993 - val_loss: 2.5313 - val_accuracy: 0.0947\n",
            "Epoch 3/30\n",
            "219/219 [==============================] - 1s 2ms/step - loss: 2.4720 - accuracy: 0.0993 - val_loss: 2.4351 - val_accuracy: 0.0950\n",
            "Epoch 4/30\n",
            "219/219 [==============================] - 1s 3ms/step - loss: 2.4025 - accuracy: 0.1001 - val_loss: 2.3842 - val_accuracy: 0.0970\n",
            "Epoch 5/30\n",
            "219/219 [==============================] - 1s 3ms/step - loss: 2.3641 - accuracy: 0.1003 - val_loss: 2.3547 - val_accuracy: 0.0970\n",
            "Epoch 6/30\n",
            "219/219 [==============================] - 1s 3ms/step - loss: 2.3413 - accuracy: 0.1003 - val_loss: 2.3369 - val_accuracy: 0.0957\n",
            "Epoch 7/30\n",
            "219/219 [==============================] - 1s 3ms/step - loss: 2.3273 - accuracy: 0.1006 - val_loss: 2.3259 - val_accuracy: 0.0953\n",
            "Epoch 8/30\n",
            "219/219 [==============================] - 1s 2ms/step - loss: 2.3186 - accuracy: 0.1006 - val_loss: 2.3189 - val_accuracy: 0.0957\n",
            "Epoch 9/30\n",
            "219/219 [==============================] - 1s 2ms/step - loss: 2.3131 - accuracy: 0.1004 - val_loss: 2.3144 - val_accuracy: 0.0960\n",
            "Epoch 10/30\n",
            "219/219 [==============================] - 1s 2ms/step - loss: 2.3094 - accuracy: 0.1003 - val_loss: 2.3114 - val_accuracy: 0.0960\n",
            "Epoch 11/30\n",
            "219/219 [==============================] - 1s 2ms/step - loss: 2.3069 - accuracy: 0.1001 - val_loss: 2.3093 - val_accuracy: 0.0957\n",
            "Epoch 12/30\n",
            "219/219 [==============================] - 1s 2ms/step - loss: 2.3053 - accuracy: 0.1003 - val_loss: 2.3081 - val_accuracy: 0.0953\n",
            "Epoch 13/30\n",
            "219/219 [==============================] - 1s 2ms/step - loss: 2.3042 - accuracy: 0.1003 - val_loss: 2.3072 - val_accuracy: 0.0953\n",
            "Epoch 14/30\n",
            "219/219 [==============================] - 1s 2ms/step - loss: 2.3035 - accuracy: 0.0994 - val_loss: 2.3066 - val_accuracy: 0.0953\n",
            "Epoch 15/30\n",
            "219/219 [==============================] - 1s 2ms/step - loss: 2.3029 - accuracy: 0.1090 - val_loss: 2.3062 - val_accuracy: 0.0903\n",
            "Epoch 16/30\n",
            "219/219 [==============================] - 1s 2ms/step - loss: 2.3025 - accuracy: 0.1084 - val_loss: 2.3060 - val_accuracy: 0.0903\n",
            "Epoch 17/30\n",
            "219/219 [==============================] - 0s 2ms/step - loss: 2.3023 - accuracy: 0.1084 - val_loss: 2.3058 - val_accuracy: 0.0900\n",
            "Epoch 18/30\n",
            "219/219 [==============================] - 1s 2ms/step - loss: 2.3021 - accuracy: 0.1080 - val_loss: 2.3057 - val_accuracy: 0.0900\n",
            "Epoch 19/30\n",
            "219/219 [==============================] - 1s 2ms/step - loss: 2.3019 - accuracy: 0.1086 - val_loss: 2.3056 - val_accuracy: 0.0900\n",
            "Epoch 20/30\n",
            "219/219 [==============================] - 1s 3ms/step - loss: 2.3017 - accuracy: 0.1084 - val_loss: 2.3056 - val_accuracy: 0.0900\n",
            "Epoch 21/30\n",
            "219/219 [==============================] - 1s 3ms/step - loss: 2.3016 - accuracy: 0.1084 - val_loss: 2.3055 - val_accuracy: 0.0900\n",
            "Epoch 22/30\n",
            "219/219 [==============================] - 1s 3ms/step - loss: 2.3015 - accuracy: 0.1086 - val_loss: 2.3056 - val_accuracy: 0.0900\n",
            "Epoch 23/30\n",
            "219/219 [==============================] - 1s 2ms/step - loss: 2.3014 - accuracy: 0.1087 - val_loss: 2.3055 - val_accuracy: 0.0900\n",
            "Epoch 24/30\n",
            "219/219 [==============================] - 1s 3ms/step - loss: 2.3013 - accuracy: 0.1089 - val_loss: 2.3055 - val_accuracy: 0.0900\n",
            "Epoch 25/30\n",
            "219/219 [==============================] - 1s 2ms/step - loss: 2.3012 - accuracy: 0.1089 - val_loss: 2.3056 - val_accuracy: 0.0900\n",
            "Epoch 26/30\n",
            "219/219 [==============================] - 1s 3ms/step - loss: 2.3012 - accuracy: 0.1089 - val_loss: 2.3056 - val_accuracy: 0.0900\n",
            "Epoch 27/30\n",
            "219/219 [==============================] - 1s 3ms/step - loss: 2.3011 - accuracy: 0.1090 - val_loss: 2.3057 - val_accuracy: 0.0903\n",
            "Epoch 28/30\n",
            "219/219 [==============================] - 1s 3ms/step - loss: 2.3010 - accuracy: 0.1089 - val_loss: 2.3056 - val_accuracy: 0.0903\n",
            "Epoch 29/30\n",
            "219/219 [==============================] - 1s 2ms/step - loss: 2.3009 - accuracy: 0.1093 - val_loss: 2.3057 - val_accuracy: 0.0903\n",
            "Epoch 30/30\n",
            "219/219 [==============================] - 1s 3ms/step - loss: 2.3008 - accuracy: 0.1093 - val_loss: 2.3057 - val_accuracy: 0.0903\n",
            "313/313 [==============================] - 1s 2ms/step - loss: 2.3021 - accuracy: 0.1016\n",
            "Combined Model Loss is: 2.3021018505096436 and Combined Model Accuracy is: 0.10159999877214432\n",
            "Epoch 1/30\n",
            "219/219 [==============================] - 1s 3ms/step - loss: 3.5187 - accuracy: 0.0964 - val_loss: 3.2587 - val_accuracy: 0.1003\n",
            "Epoch 2/30\n",
            "219/219 [==============================] - 1s 2ms/step - loss: 3.1628 - accuracy: 0.0951 - val_loss: 3.0021 - val_accuracy: 0.1030\n",
            "Epoch 3/30\n",
            "219/219 [==============================] - 1s 3ms/step - loss: 2.9230 - accuracy: 0.0954 - val_loss: 2.7897 - val_accuracy: 0.0997\n",
            "Epoch 4/30\n",
            "219/219 [==============================] - 1s 2ms/step - loss: 2.7384 - accuracy: 0.0940 - val_loss: 2.6362 - val_accuracy: 0.1037\n",
            "Epoch 5/30\n",
            "219/219 [==============================] - 1s 2ms/step - loss: 2.6048 - accuracy: 0.0961 - val_loss: 2.5318 - val_accuracy: 0.0987\n",
            "Epoch 6/30\n",
            "219/219 [==============================] - 1s 2ms/step - loss: 2.5053 - accuracy: 0.0986 - val_loss: 2.4576 - val_accuracy: 0.0960\n",
            "Epoch 7/30\n",
            "219/219 [==============================] - 1s 2ms/step - loss: 2.4496 - accuracy: 0.1053 - val_loss: 2.4232 - val_accuracy: 0.0983\n",
            "Epoch 8/30\n",
            "219/219 [==============================] - 1s 2ms/step - loss: 2.4213 - accuracy: 0.1047 - val_loss: 2.4032 - val_accuracy: 0.1033\n",
            "Epoch 9/30\n",
            "219/219 [==============================] - 1s 2ms/step - loss: 2.4044 - accuracy: 0.1024 - val_loss: 2.3915 - val_accuracy: 0.1027\n",
            "Epoch 10/30\n",
            "219/219 [==============================] - 1s 2ms/step - loss: 2.3926 - accuracy: 0.1040 - val_loss: 2.3821 - val_accuracy: 0.1027\n",
            "Epoch 11/30\n",
            "219/219 [==============================] - 1s 2ms/step - loss: 2.3831 - accuracy: 0.1037 - val_loss: 2.3745 - val_accuracy: 0.1020\n",
            "Epoch 12/30\n",
            "219/219 [==============================] - 1s 2ms/step - loss: 2.3756 - accuracy: 0.1026 - val_loss: 2.3680 - val_accuracy: 0.1010\n",
            "Epoch 13/30\n",
            "219/219 [==============================] - 1s 2ms/step - loss: 2.3684 - accuracy: 0.1036 - val_loss: 2.3617 - val_accuracy: 0.1010\n",
            "Epoch 14/30\n",
            "219/219 [==============================] - 1s 3ms/step - loss: 2.3623 - accuracy: 0.1033 - val_loss: 2.3562 - val_accuracy: 0.0990\n",
            "Epoch 15/30\n",
            "219/219 [==============================] - 1s 2ms/step - loss: 2.3563 - accuracy: 0.1029 - val_loss: 2.3505 - val_accuracy: 0.1033\n",
            "Epoch 16/30\n",
            "219/219 [==============================] - 1s 3ms/step - loss: 2.3502 - accuracy: 0.1034 - val_loss: 2.3458 - val_accuracy: 0.1030\n",
            "Epoch 17/30\n",
            "219/219 [==============================] - 1s 3ms/step - loss: 2.3444 - accuracy: 0.1074 - val_loss: 2.3398 - val_accuracy: 0.0983\n",
            "Epoch 18/30\n",
            "219/219 [==============================] - 1s 3ms/step - loss: 2.3386 - accuracy: 0.1031 - val_loss: 2.3346 - val_accuracy: 0.1023\n",
            "Epoch 19/30\n",
            "219/219 [==============================] - 1s 3ms/step - loss: 2.3322 - accuracy: 0.1070 - val_loss: 2.3299 - val_accuracy: 0.1000\n",
            "Epoch 20/30\n",
            "219/219 [==============================] - 1s 2ms/step - loss: 2.3265 - accuracy: 0.1076 - val_loss: 2.3235 - val_accuracy: 0.0990\n",
            "Epoch 21/30\n",
            "219/219 [==============================] - 1s 3ms/step - loss: 2.3202 - accuracy: 0.1040 - val_loss: 2.3214 - val_accuracy: 0.1020\n",
            "Epoch 22/30\n",
            "219/219 [==============================] - 1s 2ms/step - loss: 2.3150 - accuracy: 0.1050 - val_loss: 2.3166 - val_accuracy: 0.1000\n",
            "Epoch 23/30\n",
            "219/219 [==============================] - 1s 2ms/step - loss: 2.3110 - accuracy: 0.1036 - val_loss: 2.3143 - val_accuracy: 0.0967\n",
            "Epoch 24/30\n",
            "219/219 [==============================] - 1s 3ms/step - loss: 2.3081 - accuracy: 0.1037 - val_loss: 2.3120 - val_accuracy: 0.1000\n",
            "Epoch 25/30\n",
            "219/219 [==============================] - 1s 2ms/step - loss: 2.3057 - accuracy: 0.1084 - val_loss: 2.3119 - val_accuracy: 0.0973\n",
            "Epoch 26/30\n",
            "219/219 [==============================] - 1s 3ms/step - loss: 2.3042 - accuracy: 0.1081 - val_loss: 2.3110 - val_accuracy: 0.1040\n",
            "Epoch 27/30\n",
            "219/219 [==============================] - 1s 2ms/step - loss: 2.3031 - accuracy: 0.1096 - val_loss: 2.3104 - val_accuracy: 0.1037\n",
            "Epoch 28/30\n",
            "219/219 [==============================] - 1s 2ms/step - loss: 2.3020 - accuracy: 0.1077 - val_loss: 2.3090 - val_accuracy: 0.0990\n",
            "Epoch 29/30\n",
            "219/219 [==============================] - 1s 2ms/step - loss: 2.3016 - accuracy: 0.1081 - val_loss: 2.3117 - val_accuracy: 0.0957\n",
            "Epoch 30/30\n",
            "219/219 [==============================] - 1s 2ms/step - loss: 2.3007 - accuracy: 0.1104 - val_loss: 2.3100 - val_accuracy: 0.0997\n",
            "313/313 [==============================] - 1s 2ms/step - loss: 2.2849 - accuracy: 0.1381\n",
            "Combined Model Loss is: 2.284923553466797 and Combined Model Accuracy is: 0.13809999823570251\n",
            "Epoch 1/30\n",
            "219/219 [==============================] - 1s 5ms/step - loss: 2.6494 - accuracy: 0.1017 - val_loss: 2.5109 - val_accuracy: 0.0990\n",
            "Epoch 2/30\n",
            "219/219 [==============================] - 1s 6ms/step - loss: 2.3574 - accuracy: 0.1129 - val_loss: 2.3293 - val_accuracy: 0.1040\n",
            "Epoch 3/30\n",
            "219/219 [==============================] - 1s 5ms/step - loss: 2.3400 - accuracy: 0.1119 - val_loss: 2.4927 - val_accuracy: 0.1063\n",
            "Epoch 4/30\n",
            "219/219 [==============================] - 1s 5ms/step - loss: 2.3248 - accuracy: 0.1171 - val_loss: 2.3242 - val_accuracy: 0.1043\n",
            "Epoch 5/30\n",
            "219/219 [==============================] - 1s 5ms/step - loss: 2.3131 - accuracy: 0.1211 - val_loss: 2.3283 - val_accuracy: 0.1103\n",
            "Epoch 6/30\n",
            "219/219 [==============================] - 1s 5ms/step - loss: 2.3146 - accuracy: 0.1170 - val_loss: 2.3254 - val_accuracy: 0.0953\n",
            "Epoch 7/30\n",
            "219/219 [==============================] - 1s 4ms/step - loss: 2.3054 - accuracy: 0.1243 - val_loss: 2.3245 - val_accuracy: 0.0957\n",
            "Epoch 8/30\n",
            "219/219 [==============================] - 1s 5ms/step - loss: 2.3003 - accuracy: 0.1237 - val_loss: 2.3321 - val_accuracy: 0.1050\n",
            "Epoch 9/30\n",
            "219/219 [==============================] - 1s 5ms/step - loss: 2.2976 - accuracy: 0.1207 - val_loss: 2.3365 - val_accuracy: 0.0977\n",
            "Epoch 10/30\n",
            "219/219 [==============================] - 1s 4ms/step - loss: 2.2933 - accuracy: 0.1324 - val_loss: 2.3331 - val_accuracy: 0.0977\n",
            "Epoch 11/30\n",
            "219/219 [==============================] - 1s 5ms/step - loss: 2.2826 - accuracy: 0.1313 - val_loss: 2.3625 - val_accuracy: 0.1013\n",
            "Epoch 12/30\n",
            "219/219 [==============================] - 1s 4ms/step - loss: 2.2895 - accuracy: 0.1284 - val_loss: 2.3420 - val_accuracy: 0.0997\n",
            "Epoch 13/30\n",
            "219/219 [==============================] - 1s 5ms/step - loss: 2.2848 - accuracy: 0.1361 - val_loss: 2.3329 - val_accuracy: 0.1010\n",
            "Epoch 14/30\n",
            "219/219 [==============================] - 1s 5ms/step - loss: 2.2768 - accuracy: 0.1393 - val_loss: 2.3308 - val_accuracy: 0.1097\n",
            "Epoch 15/30\n",
            "219/219 [==============================] - 1s 5ms/step - loss: 2.2734 - accuracy: 0.1361 - val_loss: 2.3534 - val_accuracy: 0.1063\n",
            "Epoch 16/30\n",
            "219/219 [==============================] - 1s 5ms/step - loss: 2.2675 - accuracy: 0.1426 - val_loss: 2.3589 - val_accuracy: 0.1090\n",
            "Epoch 17/30\n",
            "219/219 [==============================] - 1s 5ms/step - loss: 2.2644 - accuracy: 0.1439 - val_loss: 2.3444 - val_accuracy: 0.1023\n",
            "Epoch 18/30\n",
            "219/219 [==============================] - 1s 5ms/step - loss: 2.2617 - accuracy: 0.1477 - val_loss: 2.3487 - val_accuracy: 0.1013\n",
            "Epoch 19/30\n",
            "219/219 [==============================] - 1s 5ms/step - loss: 2.2593 - accuracy: 0.1490 - val_loss: 2.3534 - val_accuracy: 0.0977\n",
            "Epoch 20/30\n",
            "219/219 [==============================] - 1s 5ms/step - loss: 2.2590 - accuracy: 0.1509 - val_loss: 2.3490 - val_accuracy: 0.1060\n",
            "Epoch 21/30\n",
            "219/219 [==============================] - 1s 6ms/step - loss: 2.2520 - accuracy: 0.1541 - val_loss: 2.3581 - val_accuracy: 0.0980\n",
            "Epoch 22/30\n",
            "219/219 [==============================] - 1s 5ms/step - loss: 2.2483 - accuracy: 0.1531 - val_loss: 2.3638 - val_accuracy: 0.0993\n",
            "Epoch 23/30\n",
            "219/219 [==============================] - 1s 4ms/step - loss: 2.2375 - accuracy: 0.1593 - val_loss: 2.3520 - val_accuracy: 0.1050\n",
            "Epoch 24/30\n",
            "219/219 [==============================] - 1s 5ms/step - loss: 2.2315 - accuracy: 0.1666 - val_loss: 2.3549 - val_accuracy: 0.1087\n",
            "Epoch 25/30\n",
            "219/219 [==============================] - 1s 5ms/step - loss: 2.2270 - accuracy: 0.1643 - val_loss: 2.3625 - val_accuracy: 0.1080\n",
            "Epoch 26/30\n",
            "219/219 [==============================] - 1s 5ms/step - loss: 2.2228 - accuracy: 0.1676 - val_loss: 2.4053 - val_accuracy: 0.1057\n",
            "Epoch 27/30\n",
            "219/219 [==============================] - 1s 5ms/step - loss: 2.2212 - accuracy: 0.1744 - val_loss: 2.3654 - val_accuracy: 0.1130\n",
            "Epoch 28/30\n",
            "219/219 [==============================] - 1s 5ms/step - loss: 2.2092 - accuracy: 0.1764 - val_loss: 2.3818 - val_accuracy: 0.1053\n",
            "Epoch 29/30\n",
            "219/219 [==============================] - 1s 5ms/step - loss: 2.2056 - accuracy: 0.1763 - val_loss: 2.3940 - val_accuracy: 0.1053\n",
            "Epoch 30/30\n",
            "219/219 [==============================] - 1s 5ms/step - loss: 2.2059 - accuracy: 0.1813 - val_loss: 2.3791 - val_accuracy: 0.1103\n",
            "313/313 [==============================] - 1s 3ms/step - loss: 2.3200 - accuracy: 0.1424\n",
            "Combined Model Loss is: 2.320042133331299 and Combined Model Accuracy is: 0.14239999651908875\n"
          ]
        }
      ]
    },
    {
      "cell_type": "code",
      "source": [
        "AvgAllModels = (AccuracyModel1[1] + AccuracyModel2[1] + AccuracyModel3[1])/3"
      ],
      "metadata": {
        "id": "6TzV-idpi6GX"
      },
      "id": "6TzV-idpi6GX",
      "execution_count": 65,
      "outputs": []
    },
    {
      "cell_type": "markdown",
      "source": [
        "## Avg of all the 3 models"
      ],
      "metadata": {
        "id": "HoHCX9K0XGZE"
      },
      "id": "HoHCX9K0XGZE"
    },
    {
      "cell_type": "code",
      "source": [
        "AvgAllModels"
      ],
      "metadata": {
        "colab": {
          "base_uri": "https://localhost:8080/"
        },
        "id": "0Y5jjQSji6Br",
        "outputId": "f3e8ecee-ea9b-45b4-c675-b5ee8558355f"
      },
      "id": "0Y5jjQSji6Br",
      "execution_count": 66,
      "outputs": [
        {
          "output_type": "execute_result",
          "data": {
            "text/plain": [
              "0.7947333256403605"
            ]
          },
          "metadata": {},
          "execution_count": 66
        }
      ]
    }
  ],
  "metadata": {
    "kernelspec": {
      "display_name": "Python 3 (ipykernel)",
      "language": "python",
      "name": "python3"
    },
    "language_info": {
      "codemirror_mode": {
        "name": "ipython",
        "version": 3
      },
      "file_extension": ".py",
      "mimetype": "text/x-python",
      "name": "python",
      "nbconvert_exporter": "python",
      "pygments_lexer": "ipython3",
      "version": "3.9.12"
    },
    "colab": {
      "provenance": []
    }
  },
  "nbformat": 4,
  "nbformat_minor": 5
}